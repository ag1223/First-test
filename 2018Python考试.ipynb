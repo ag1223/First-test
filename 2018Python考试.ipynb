{
 "cells": [
  {
   "cell_type": "code",
   "execution_count": 8,
   "metadata": {},
   "outputs": [
    {
     "name": "stdout",
     "output_type": "stream",
     "text": [
      "输入带符号的温度(C/F):36C\n",
      "转换后的温度是96.80F\n"
     ]
    }
   ],
   "source": [
    "def transfer():\n",
    "    Temperature = input(\"输入带符号的温度(C/F):\")\n",
    "    if Temperature[-1] in ['F', 'f']:\n",
    "        C = (eval(Temperature[0:-1]) - 32) / 1.8\n",
    "        print(\"转换后的温度是{:.2f}C\".format(C))\n",
    "    elif Temperature[-1] in ['C', 'c']:\n",
    "        F = eval(Temperature[0:-1]) * 1.8 + 32\n",
    "        print(\"转换后的温度是{:.2f}F\".format(F))\n",
    "    else:\n",
    "        print(\"输入错误\")\n",
    "transfer()        "
   ]
  },
  {
   "cell_type": "code",
   "execution_count": 9,
   "metadata": {},
   "outputs": [
    {
     "data": {
      "text/plain": [
       "'http://www.baidu.com'"
      ]
     },
     "execution_count": 9,
     "metadata": {},
     "output_type": "execute_result"
    }
   ],
   "source": [
    "import re\n",
    "\n",
    "# 第一题(匹配百度网址)\n",
    "url = 'http://www.baidu.com'\n",
    "re.match(r'http:\\/\\/www\\.baidu\\.com', url).group()\n"
   ]
  },
  {
   "cell_type": "code",
   "execution_count": 10,
   "metadata": {},
   "outputs": [
    {
     "data": {
      "text/plain": [
       "'ATCCC'"
      ]
     },
     "execution_count": 10,
     "metadata": {},
     "output_type": "execute_result"
    }
   ],
   "source": [
    "# 第二题(匹配基因序列中长度为5的有重复的序列)\n",
    "\n",
    "gene = 'ATCCCATCGATTACGGAGCGTATCAATAGCTAATCCC'\n",
    "re.search(r'([ATCG]{5}).*\\1', gene).group(1)\n",
    "# 返回的字符串为有重复的基因序列"
   ]
  },
  {
   "cell_type": "code",
   "execution_count": 11,
   "metadata": {},
   "outputs": [
    {
     "data": {
      "text/plain": [
       "'ATCGATTACGGAGCGTATCAATAGCTA'"
      ]
     },
     "execution_count": 11,
     "metadata": {},
     "output_type": "execute_result"
    }
   ],
   "source": [
    "# 第三题  (匹配长度为5的回文碱基序列)\n",
    "\n",
    "gene = 'ATCCCATCGATTACGGAGCGTATCAATAGCTAATCCC'\n",
    "re.search(r'([ATCG])([ATCG])([ATCG])([ATCG])([ATCG]).*\\5\\4\\3\\2\\1', gene).group()\n",
    "# 返回的字符串开头五个和结尾五个是回文碱基序列\n"
   ]
  },
  {
   "cell_type": "code",
   "execution_count": 12,
   "metadata": {},
   "outputs": [
    {
     "data": {
      "text/plain": [
       "['UGC', 'UGC', 'UGU']"
      ]
     },
     "execution_count": 12,
     "metadata": {},
     "output_type": "execute_result"
    }
   ],
   "source": [
    "# 第四题(匹配 UGC 或 UGU)\n",
    "gene = 'AUCGAUGCAUUUCACACAUAGUCUGCAUUUCCCAAAUCUAUCUAUCGUGGAUCAAUCUAUCUAGCAUGUCAC'\n",
    "re.findall(r'UG[UC]', gene)\n"
   ]
  },
  {
   "cell_type": "code",
   "execution_count": 3,
   "metadata": {},
   "outputs": [
    {
     "name": "stdout",
     "output_type": "stream",
     "text": [
      "基因名称: A\n",
      "基因ID: 1\n",
      "基因名称: B\n",
      "基因ID: 2\n"
     ]
    },
    {
     "ename": "NameError",
     "evalue": "name 'a' is not defined",
     "output_type": "error",
     "traceback": [
      "\u001b[1;31m---------------------------------------------------------------------------\u001b[0m",
      "\u001b[1;31mNameError\u001b[0m                                 Traceback (most recent call last)",
      "\u001b[1;32m<ipython-input-3-1f139b738b39>\u001b[0m in \u001b[0;36m<module>\u001b[1;34m()\u001b[0m\n\u001b[0;32m     25\u001b[0m \u001b[0mgene3\u001b[0m \u001b[1;33m=\u001b[0m \u001b[0mCodingGene\u001b[0m\u001b[1;33m(\u001b[0m\u001b[1;34m'C'\u001b[0m\u001b[1;33m,\u001b[0m \u001b[1;36m3\u001b[0m\u001b[1;33m,\u001b[0m \u001b[1;34m'b'\u001b[0m\u001b[1;33m)\u001b[0m\u001b[1;33m\u001b[0m\u001b[0m\n\u001b[0;32m     26\u001b[0m \u001b[0mgene1\u001b[0m\u001b[1;33m.\u001b[0m\u001b[0mtell\u001b[0m\u001b[1;33m(\u001b[0m\u001b[1;33m)\u001b[0m\u001b[1;33m\u001b[0m\u001b[0m\n\u001b[1;32m---> 27\u001b[1;33m \u001b[0mgene2\u001b[0m\u001b[1;33m.\u001b[0m\u001b[0mtell\u001b[0m\u001b[1;33m(\u001b[0m\u001b[1;33m)\u001b[0m\u001b[1;33m\u001b[0m\u001b[0m\n\u001b[0m\u001b[0;32m     28\u001b[0m \u001b[0mgene3\u001b[0m\u001b[1;33m.\u001b[0m\u001b[0mtell\u001b[0m\u001b[1;33m(\u001b[0m\u001b[1;33m)\u001b[0m\u001b[1;33m\u001b[0m\u001b[0m\n",
      "\u001b[1;32m<ipython-input-3-1f139b738b39>\u001b[0m in \u001b[0;36mtell\u001b[1;34m(self)\u001b[0m\n\u001b[0;32m     12\u001b[0m     \u001b[1;32mdef\u001b[0m \u001b[0mtell\u001b[0m\u001b[1;33m(\u001b[0m\u001b[0mself\u001b[0m\u001b[1;33m)\u001b[0m\u001b[1;33m:\u001b[0m\u001b[1;33m\u001b[0m\u001b[0m\n\u001b[0;32m     13\u001b[0m         \u001b[0msuper\u001b[0m\u001b[1;33m(\u001b[0m\u001b[0mNonCodingGene\u001b[0m\u001b[1;33m,\u001b[0m \u001b[0mself\u001b[0m\u001b[1;33m)\u001b[0m\u001b[1;33m.\u001b[0m\u001b[0mtell\u001b[0m\u001b[1;33m(\u001b[0m\u001b[1;33m)\u001b[0m\u001b[1;33m\u001b[0m\u001b[0m\n\u001b[1;32m---> 14\u001b[1;33m         \u001b[0mprint\u001b[0m \u001b[1;33m(\u001b[0m\u001b[1;34m\"a: \"\u001b[0m \u001b[1;33m+\u001b[0m \u001b[0ma\u001b[0m\u001b[1;33m)\u001b[0m              \u001b[1;31m#  a如果是数字  后面的a 就是  str(a)\u001b[0m\u001b[1;33m\u001b[0m\u001b[0m\n\u001b[0m\u001b[0;32m     15\u001b[0m \u001b[1;32mclass\u001b[0m \u001b[0mCodingGene\u001b[0m\u001b[1;33m(\u001b[0m\u001b[0mGene\u001b[0m\u001b[1;33m)\u001b[0m\u001b[1;33m:\u001b[0m\u001b[1;33m\u001b[0m\u001b[0m\n\u001b[0;32m     16\u001b[0m     \u001b[1;32mdef\u001b[0m \u001b[0m__init__\u001b[0m\u001b[1;33m(\u001b[0m\u001b[0mself\u001b[0m\u001b[1;33m,\u001b[0m \u001b[0mname\u001b[0m\u001b[1;33m,\u001b[0m \u001b[0mID\u001b[0m\u001b[1;33m,\u001b[0m \u001b[0mb\u001b[0m\u001b[1;33m)\u001b[0m\u001b[1;33m:\u001b[0m   \u001b[1;31m#  b同a\u001b[0m\u001b[1;33m\u001b[0m\u001b[0m\n",
      "\u001b[1;31mNameError\u001b[0m: name 'a' is not defined"
     ]
    }
   ],
   "source": [
    "class Gene(object):\n",
    "    def __init__(self, name, ID):\n",
    "        self.name = name\n",
    "        self.ID = ID\n",
    "    def tell(self):\n",
    "        print(\"基因名称: \" + self.name)\n",
    "        print(\"基因ID: \" + str(self.ID))\n",
    "class NonCodingGene(Gene):\n",
    "    def __init__(self, name, ID, a):     # a属性为非编码基因的特有属性，具体看是字符串还是数字\n",
    "        super(NonCodingGene, self).__init__(name, ID)\n",
    "        self.a = a\n",
    "    def tell(self):\n",
    "        super(NonCodingGene, self).tell()\n",
    "        print (\"a: \" + a)              #  a如果是数字  后面的a 就是  str(a) \n",
    "class CodingGene(Gene):\n",
    "    def __init__(self, name, ID, b):   #  b同a\n",
    "        super(CodingGene, self).__init__(name, ID)\n",
    "        self.b = b\n",
    "    def tell(self):\n",
    "        super(CodingGene, self).tell()\n",
    "        print (\"b: \" + b)    \n",
    "# 创建3个实例\n",
    "gene1 = Gene('A', 1)\n",
    "gene2 = NonCodingGene('B',2,'a')\n",
    "gene3 = CodingGene('C', 3, 'b')\n",
    "gene1.tell()\n",
    "gene2.tell()\n",
    "gene3.tell()\n"
   ]
  },
  {
   "cell_type": "code",
   "execution_count": null,
   "metadata": {},
   "outputs": [],
   "source": []
  }
 ],
 "metadata": {
  "kernelspec": {
   "display_name": "Python 3",
   "language": "python",
   "name": "python3"
  },
  "language_info": {
   "codemirror_mode": {
    "name": "ipython",
    "version": 3
   },
   "file_extension": ".py",
   "mimetype": "text/x-python",
   "name": "python",
   "nbconvert_exporter": "python",
   "pygments_lexer": "ipython3",
   "version": "3.6.4"
  }
 },
 "nbformat": 4,
 "nbformat_minor": 2
}
